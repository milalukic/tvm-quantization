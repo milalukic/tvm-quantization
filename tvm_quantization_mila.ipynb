{
 "cells": [
  {
   "cell_type": "markdown",
   "id": "10656e8e-ffc3-4fc3-bb22-10be50d3a129",
   "metadata": {},
   "source": [
    "# Auto-generating Quantized DNN Kernels using TVM"
   ]
  },
  {
   "cell_type": "code",
   "execution_count": 1,
   "id": "c618d0a1-6730-4a0a-99e1-13eb6f96ef74",
   "metadata": {},
   "outputs": [],
   "source": [
    "import tvm\n",
    "from tvm import relay\n",
    "from tvm.relay import quantize\n",
    "from tvm.contrib.download import download_testdata\n",
    "from tvm.contrib import graph_executor\n",
    "\n",
    "from PIL import Image\n",
    "from tvm.contrib.download import download_testdata\n",
    "\n",
    "import torch\n",
    "import torchvision.models as models\n",
    "from torchvision import transforms\n",
    "\n",
    "import time\n",
    "import numpy as np"
   ]
  },
  {
   "cell_type": "markdown",
   "id": "42260fcb-2360-4c2e-a8d4-6757a11783d2",
   "metadata": {},
   "source": [
    "## Loading a pre-trained PyTorch Model\n",
    ">Get an instance of a ResNet50 model implemented in PyTorch. It's available in the torchvision package."
   ]
  },
  {
   "cell_type": "code",
   "execution_count": 2,
   "id": "89a27c00-0039-440d-adf5-7edc0089a8ab",
   "metadata": {},
   "outputs": [
    {
     "name": "stderr",
     "output_type": "stream",
     "text": [
      "/home/mila/.local/lib/python3.10/site-packages/torchvision/models/_utils.py:208: UserWarning: The parameter 'pretrained' is deprecated since 0.13 and may be removed in the future, please use 'weights' instead.\n",
      "  warnings.warn(\n",
      "/home/mila/.local/lib/python3.10/site-packages/torchvision/models/_utils.py:223: UserWarning: Arguments other than a weight enum or `None` for 'weights' are deprecated since 0.13 and may be removed in the future. The current behavior is equivalent to passing `weights=ResNet50_Weights.IMAGENET1K_V1`. You can also use `weights=ResNet50_Weights.DEFAULT` to get the most up-to-date weights.\n",
      "  warnings.warn(msg)\n"
     ]
    }
   ],
   "source": [
    "# Load pre-trained ResNet50 model\n",
    "resnet50 = models.resnet50(pretrained=True)\n",
    "\n",
    "# In evaluation mode, certain layers (like dropout) might behave differently compared to training mode. \n",
    "#This is because during evaluation, you typically want a deterministic output from the model, \n",
    "#whereas training might involve some randomness for regularization.\n",
    "resnet50 = resnet50.eval()\n",
    "# We grab the TorchScripted model via tracing\n",
    "\n",
    "# A batch of one image with three channels (RGB) and a size of 224x224 pixels. \n",
    "# This is a common input size for many pre-trained image classification models.\n",
    "input_shape = [1, 3, 224, 224]\n",
    "\n",
    "# A random tensor with the specified input shape - dummy input for the model.\n",
    "input_data = torch.randn(input_shape)\n",
    "\n",
    "# Creating the TorchScript model\n",
    "scripted_model = torch.jit.trace(resnet50, input_data).eval()"
   ]
  },
  {
   "cell_type": "markdown",
   "id": "0419b273-6d1d-4ae4-8f9b-a146ea866ec6",
   "metadata": {},
   "source": [
    "## Trying TVM on un-quantized DNN\n",
    "\n",
    ">It's a good idea to try TVM on an un-quantized DNN first. Give TVM the network and a sample input to the network, and compile the network into a function object that can be called from Python side to produce DNN outputs.\n",
    "\n",
    ">>The TVM how-to guides has complete tutorials on how to do this step. Pay attention to the compilation target: which hardware (CPU? GPU?) the model is being compiled for, and understand how to specify it. Compile for GPU, if you have one, or CPU otherwise.\n",
    "\n",
    "https://tvm.apache.org/docs/how_to/compile_models/from_pytorch.html#sphx-glr-how-to-compile-models-from-pytorch-py\n"
   ]
  },
  {
   "cell_type": "markdown",
   "id": "90534ac4-bb9b-4963-9e8d-6daa6f210b24",
   "metadata": {},
   "source": [
    "#### Loading a test image"
   ]
  },
  {
   "cell_type": "code",
   "execution_count": 3,
   "id": "d66a863a-95b1-495e-90f2-706782d33b84",
   "metadata": {},
   "outputs": [],
   "source": [
    "img_url = \"https://github.com/dmlc/mxnet.js/blob/main/data/cat.png?raw=true\"\n",
    "img_path = download_testdata(img_url, \"cat.png\", module=\"data\")\n",
    "img = Image.open(img_path).resize((224, 224))\n",
    "\n",
    "# Preprocess the image and convert to tensor\n",
    "my_preprocess = transforms.Compose(\n",
    "    [\n",
    "        transforms.Resize(256),\n",
    "        transforms.CenterCrop(224),\n",
    "        transforms.ToTensor(),\n",
    "        transforms.Normalize(mean=[0.485, 0.456, 0.406], std=[0.229, 0.224, 0.225]),\n",
    "    ]\n",
    ")\n",
    "img = my_preprocess(img)\n",
    "img = np.expand_dims(img, 0)"
   ]
  },
  {
   "cell_type": "markdown",
   "id": "afe44abe-1d8a-42d5-b960-f4c44d1f47bf",
   "metadata": {},
   "source": [
    "#### Converting the PyTorch model to Relay Model\n",
    "\n",
    "_In the context of deep learning and machine learning frameworks, Relay representation refers to a specific format for representing neural network models. It's associated with the TVM (TransVision Machine) compiler framework._\n",
    "\n",
    "_I'm converting to this model in order to  leverage TVM's capabilities for deployment and optimization on various hardware platforms_\n",
    "\n",
    "_The output_:\n",
    "* `mod`: This represents the Relay module, which is the core computational graph of the converted model.\n",
    "* `params`: This is a dictionary containing the model's weights and biases as Relay tensors."
   ]
  },
  {
   "cell_type": "code",
   "execution_count": 4,
   "id": "4a2fe996-4ab7-453a-8983-a149599cbdb0",
   "metadata": {},
   "outputs": [],
   "source": [
    "input_name = \"input0\"\n",
    "shape_list = [(input_name, img.shape)]\n",
    "mod, params = relay.frontend.from_pytorch(scripted_model, shape_list)"
   ]
  },
  {
   "cell_type": "markdown",
   "id": "25978386-4ad1-458e-8c44-86918262cd96",
   "metadata": {},
   "source": [
    "#### Compiling the Relay model using TVM\n",
    "\n",
    "For this compilation target, I had to use my CPU. The GPUs that TVM supports are:\n",
    "* Nvidia GPUs - I would set this target by using `tvm.target.cuda()` if I had a Nvidia GPU\n",
    "* AMD GPUs - In this case I would set the target by using `tvm.target.rocm()`\n",
    "\n",
    "The GPU that I have on my laptop is Intel Corporation Iris Plus Graphics G7 - this one is not supported by TVM, so this code compiles the model for CPU execution using `tvm.target.Target(\"llvm\", host=\"llvm\")`"
   ]
  },
  {
   "cell_type": "code",
   "execution_count": 5,
   "id": "279d382f-abf1-43c2-b4ad-ff0f488bcddd",
   "metadata": {},
   "outputs": [
    {
     "name": "stderr",
     "output_type": "stream",
     "text": [
      "One or more operators have not been tuned. Please tune your model for better performance. Use DEBUG logging level to see more details.\n"
     ]
    }
   ],
   "source": [
    "# The compiler infrastructure I want to use for backend is going to be LLVM for CPU compilation, and that's going to be my host compiler.\n",
    "target = tvm.target.Target(\"llvm\", host=\"llvm\")\n",
    "# We are going to use the first available CPU core, and the target device will be our CPU\n",
    "dev = tvm.cpu(0)\n",
    "\n",
    "# We are creating the context for code transformations, using a high level of optimization (3)  \n",
    "with tvm.transform.PassContext(opt_level=3):\n",
    "    lib = relay.build(mod, target=target, params=params)"
   ]
  },
  {
   "cell_type": "markdown",
   "id": "2ba16c55-fbb1-40ef-bceb-eb8b73be8d0b",
   "metadata": {},
   "source": [
    "Here we are going to execute a pre-compiled Relay model using the graph_executor module in TVM.\n",
    "\n",
    "In the context of TVM and deep learning model deployment, a Graph Module that we will be using refers to a runtime representation of a compiled Relay model."
   ]
  },
  {
   "cell_type": "code",
   "execution_count": 6,
   "id": "1590d69d-fa28-4062-bb7c-ced97a04332f",
   "metadata": {},
   "outputs": [],
   "source": [
    "dtype = \"float32\"\n",
    "m = graph_executor.GraphModule(lib[\"default\"](dev))\n",
    "# Set inputs\n",
    "m.set_input(input_name, tvm.nd.array(img.astype(dtype)))\n",
    "# Execute\n",
    "m.run()\n",
    "# Get outputs\n",
    "tvm_output = m.get_output(0)\n",
    "\n",
    "# Measure model execution time\n",
    "benchmark_unquantized = m.benchmark(dev)"
   ]
  },
  {
   "cell_type": "markdown",
   "id": "bcbcfde6-2705-45fb-8136-0fcb1a17a922",
   "metadata": {},
   "source": [
    "This code snippet deals with image classification, using a pre-trained ResNet50 model, and compares the results between a TVM-based inference and a PyTorch-based inference for the same image."
   ]
  },
  {
   "cell_type": "code",
   "execution_count": 7,
   "id": "726fbdd8-7f25-46e2-badb-307eef929b8b",
   "metadata": {},
   "outputs": [
    {
     "name": "stdout",
     "output_type": "stream",
     "text": [
      "Relay top-1 id: 282, class name: tiger cat\n",
      "Torch top-1 id: 282, class name: tiger cat\n"
     ]
    }
   ],
   "source": [
    "synset_url = \"\".join(\n",
    "    [\n",
    "        \"https://raw.githubusercontent.com/Cadene/\",\n",
    "        \"pretrained-models.pytorch/master/data/\",\n",
    "        \"imagenet_synsets.txt\",\n",
    "    ]\n",
    ")\n",
    "synset_name = \"imagenet_synsets.txt\"\n",
    "synset_path = download_testdata(synset_url, synset_name, module=\"data\")\n",
    "with open(synset_path) as f:\n",
    "    synsets = f.readlines()\n",
    "\n",
    "synsets = [x.strip() for x in synsets]\n",
    "splits = [line.split(\" \") for line in synsets]\n",
    "key_to_classname = {spl[0]: \" \".join(spl[1:]) for spl in splits}\n",
    "\n",
    "class_url = \"\".join(\n",
    "    [\n",
    "        \"https://raw.githubusercontent.com/Cadene/\",\n",
    "        \"pretrained-models.pytorch/master/data/\",\n",
    "        \"imagenet_classes.txt\",\n",
    "    ]\n",
    ")\n",
    "class_name = \"imagenet_classes.txt\"\n",
    "class_path = download_testdata(class_url, class_name, module=\"data\")\n",
    "with open(class_path) as f:\n",
    "    class_id_to_key = f.readlines()\n",
    "\n",
    "class_id_to_key = [x.strip() for x in class_id_to_key]\n",
    "\n",
    "# Get top-1 result for TVM\n",
    "top1_tvm = np.argmax(tvm_output.numpy()[0])\n",
    "tvm_class_key = class_id_to_key[top1_tvm]\n",
    "\n",
    "# Convert input to PyTorch variable and get PyTorch result for comparison\n",
    "with torch.no_grad():\n",
    "    torch_img = torch.from_numpy(img)\n",
    "    output = resnet50(torch_img)\n",
    "\n",
    "    # Get top-1 result for PyTorch\n",
    "    top1_torch = np.argmax(output.numpy())\n",
    "    torch_class_key = class_id_to_key[top1_torch]\n",
    "\n",
    "print(\"Relay top-1 id: {}, class name: {}\".format(top1_tvm, key_to_classname[tvm_class_key]))\n",
    "print(\"Torch top-1 id: {}, class name: {}\".format(top1_torch, key_to_classname[torch_class_key]))"
   ]
  },
  {
   "cell_type": "markdown",
   "id": "2d71894c-f7d8-423b-95d0-ac8dd40473ef",
   "metadata": {},
   "source": [
    "## Quantizing the model to int8 precision\n",
    "\n",
    ">Now, quantize the model down to int8 precision. TVM itself has utilities to quantize a DNN before compilation; you can find how-tos in the guides and forum. Again, you should get a function object that can be called from Python side.\n",
    "\n",
    ">>Hint: there is a namespace tvm.relay.quantize and everything you need is somewhere in there.\n"
   ]
  },
  {
   "cell_type": "code",
   "execution_count": 8,
   "id": "770848b9-c783-4865-bafc-0946d8f2f77c",
   "metadata": {},
   "outputs": [],
   "source": [
    "target = tvm.target.Target(\"llvm\", host=\"llvm\")\n",
    "dev = tvm.cpu(0)\n",
    "dtype = \"float32\""
   ]
  },
  {
   "cell_type": "code",
   "execution_count": 9,
   "id": "24e3ea91-0ff5-42e7-b3bd-478e62d8a3de",
   "metadata": {},
   "outputs": [],
   "source": [
    "input_name = \"input0\"\n",
    "shape_list = [(input_name, img.shape)]\n",
    "mod, params = relay.frontend.from_pytorch(scripted_model, shape_list)"
   ]
  },
  {
   "cell_type": "code",
   "execution_count": 10,
   "id": "6757029f-25c6-46ca-844b-bbc3d7717163",
   "metadata": {},
   "outputs": [],
   "source": [
    "# Configuring quantization settings for converting model to 8-bit integers and applying quantization to Relay module\n",
    "with relay.quantize.qconfig(calibrate_mode='global_scale',\n",
    "                            dtype_input=\"int8\",\n",
    "                            dtype_weight=\"int8\",\n",
    "                            dtype_activation=\"int8\",\n",
    "                            global_scale=8.0):\n",
    "    mod = relay.quantize.quantize(mod, params)"
   ]
  },
  {
   "cell_type": "code",
   "execution_count": 11,
   "id": "83138370-4af8-434d-8ae4-4899a8933b52",
   "metadata": {},
   "outputs": [],
   "source": [
    "# Apply optimization passes for performance (opt_level=3)\n",
    "with tvm.transform.PassContext(opt_level=3):\n",
    "    # Build a runtime library (lib) from the quantized Relay module (mod)\n",
    "    lib = relay.build(mod, target=target, params=params)"
   ]
  },
  {
   "cell_type": "code",
   "execution_count": 12,
   "id": "ef02dfd9-c7a3-4423-9a43-d1c36d2db16b",
   "metadata": {},
   "outputs": [],
   "source": [
    "m = graph_executor.GraphModule(lib[\"default\"](dev))\n",
    "m.set_input(input_name, tvm.nd.array(img.astype(dtype)))"
   ]
  },
  {
   "cell_type": "code",
   "execution_count": 13,
   "id": "50ecef70-ce9c-4ef2-9f57-edd759612358",
   "metadata": {},
   "outputs": [],
   "source": [
    "# Measure model execution time\n",
    "benchmark_int8 = m.benchmark(dev)"
   ]
  },
  {
   "cell_type": "markdown",
   "id": "2ae6872d-04ac-4020-be70-9672460b2b4d",
   "metadata": {},
   "source": [
    "## Model execution time comparison\n",
    "\n",
    ">Use TVM's utility functions to benchmark the inference time of the quantized model vs. the un-quantized model.\n",
    "\n",
    ">>In this task we will not try to maximize the performance of the quantized DNN, but if there is no speedup, you should try to understand it and formulate a guess."
   ]
  },
  {
   "cell_type": "code",
   "execution_count": 14,
   "id": "375c5abd-e271-47b4-bb55-b7ff5e932e51",
   "metadata": {},
   "outputs": [
    {
     "data": {
      "text/plain": [
       "0.12238092292"
      ]
     },
     "execution_count": 14,
     "metadata": {},
     "output_type": "execute_result"
    }
   ],
   "source": [
    "benchmark_unquantized.mean"
   ]
  },
  {
   "cell_type": "code",
   "execution_count": 15,
   "id": "d3a6eea2-1aa4-4b9e-9e7d-a24367cb5a17",
   "metadata": {},
   "outputs": [
    {
     "data": {
      "text/plain": [
       "0.23729476759999998"
      ]
     },
     "execution_count": 15,
     "metadata": {},
     "output_type": "execute_result"
    }
   ],
   "source": [
    "benchmark_int8.mean"
   ]
  },
  {
   "cell_type": "code",
   "execution_count": 16,
   "id": "841791ed-c853-40c9-9697-3390e91ab1c0",
   "metadata": {},
   "outputs": [
    {
     "data": {
      "text/plain": [
       "<Figure size 1200x1600 with 0 Axes>"
      ]
     },
     "metadata": {},
     "output_type": "display_data"
    },
    {
     "data": {
      "image/png": "[encoded data removed]",
      "text/plain": [
       "<Figure size 640x480 with 1 Axes>"
      ]
     },
     "metadata": {},
     "output_type": "display_data"
    }
   ],
   "source": [
    "import matplotlib.pyplot as plt\n",
    "plt.figure(figsize=(12, 16))\n",
    "fig, ax = plt.subplots()\n",
    "ax.bar([ \"unquantized - min\", \"int8 - min\"],[benchmark_unquantized.min, benchmark_int8.min], align='center', color='pink')\n",
    "ax.bar([\"unquantized - mean\", \"int8 - mean\"],[benchmark_unquantized.mean, benchmark_int8.mean])\n",
    "ax.bar([ \"unquantized - max\", \"int8 - max\"],[benchmark_unquantized.max, benchmark_int8.max], align='center', color='red')\n",
    "ax.set_ylabel(\"Inference time\")\n",
    "ax.set_title(\"Inference time based on the quantization scheme used\")\n",
    "\n",
    "plt.xticks(rotation=45, ha='right')\n",
    "plt.show()"
   ]
  },
  {
   "cell_type": "markdown",
   "id": "72b0ccdb-6e3a-48d7-9b44-5f013904cf13",
   "metadata": {},
   "source": [
    "We can see that the unquantized DNN is faster in terms of inference time (when we look at all of the benchmarks - min, max, as well as mean). This is unexpected - the quantization to a smaller precision is supposed to make the DNN faster, but less accurate. \n",
    "\n",
    "After some research, I found out these possible reasons for this model to be slower:\n",
    "* __Overhead from Quantization__: While the lower precision reduces computation for the core operations, these callibration and conversion might outweigh the gains on some hardware.\n",
    "* __Hardware Acceleration Not Optimized__: If my hardware is not specifically optimized for running low-precision models, it might not be able to fully exploit the benefits of quantization.\n",
    "\n",
    "\n",
    "Considering the fact that I've got this warning message when I compiled the unquantized DNN:\n",
    "\n",
    "`One or more operators have not been tuned. Please tune your model for better performance. Use DEBUG logging level to see more details.`\n",
    "\n",
    "I looked a bit more into it - it wasn't intuitive at all to me that the model that's supposed to be \"tuned for better performance\" is still performing better compared to the model that didn't get the same message!\n",
    "\n",
    "I researched it online, but couldn't find a specific solution that made sense. As a last resort, I decided to ask Gemini (Google's chatbot) and among other things that it mentioned, I came across this paragraph that I found interesting:\n",
    "\n",
    "> It's possible that the lack of tuning in the unquantized model leads to a simpler execution path. Without optimizations, the model might be using a more generic implementation that, in some cases, could be surprisingly efficient for the specific hardware you're running on.\n",
    "\n",
    "This, paired with possible overhead and hardware issues, made sense to me."
   ]
  },
  {
   "cell_type": "markdown",
   "id": "ad814853-c56a-4a7e-8e39-bf17f1b9c71d",
   "metadata": {},
   "source": [
    "## How did TVM know that I wanted to quantize to int8?\n",
    ">In your quantization setup, how did TVM know that you wanted to quantize to int8? Look into that, and vary the number of bits of quantization (the in int-$n$). Searching in forum and peeking the source code of the quantizer class will both help."
   ]
  },
  {
   "cell_type": "markdown",
   "id": "c8cc5161-1d92-4f29-8fb9-ab1f7e99c95e",
   "metadata": {},
   "source": [
    "The `qconfig` function allows us to define the quantization configuration using the `QConfig` class.\n",
    "This class has attributes like dtype_input and dtype_weight, which specify the number of bits and data type for different elements (input, weight) in the model.\n",
    "\n",
    "When quantizing the DNN in my code, I specifically set the configuration so that dtype_input and dtype_weight were equal to \"int8\".\n",
    "\n",
    "```\n",
    "with relay.quantize.qconfig(calibrate_mode='global_scale',\n",
    "                           dtype_input=\"int8\",\n",
    "                           dtype_weight=\"int8\",\n",
    "                           dtype_activation=\"int8\",\n",
    "                           global_scale=8.0):\n",
    "   mod = relay.quantize.quantize(mod, params)\n",
    "```\n",
    "\n",
    "Upon taking a closer look at the source code of the `quantize` class (https://github.com/apache/tvm/blob/main/python/tvm/relay/quantize/quantize.py), I came across some more interesting discoveries.\n",
    "\n",
    "While qconfig allows us to specify the number of bits, it also provides defaults. By default, nbit_input and nbit_weight are both set to 8, corresponding to int8. dtype_input and dtype_weight are also set to \"int8\" by default.\n",
    "\n",
    "So to sum up: while we can influence the quantization type through qconfig, TVM's defaults and calibration process are geared towards using int8 for efficient low-precision inference. That's how TVM will know that we want to quantize to \"int8\", even if we don't specifically set the configuration to that."
   ]
  },
  {
   "cell_type": "markdown",
   "id": "169f85f9-7950-4a66-99b7-62c318dc91b4",
   "metadata": {},
   "source": [
    ">Try out int8 -> int4 -> int2 -> int1; note which precisions work. When it doesn't work, note exactly which part is failing."
   ]
  },
  {
   "cell_type": "code",
   "execution_count": 17,
   "id": "033d73ef-ffe9-4b62-a0cf-7e647e0ba0fb",
   "metadata": {},
   "outputs": [],
   "source": [
    "target = tvm.target.Target(\"llvm\", host=\"llvm\")\n",
    "dev = tvm.cpu(0)\n",
    "dtype = \"float32\""
   ]
  },
  {
   "cell_type": "code",
   "execution_count": 18,
   "id": "cfaaedfd-2f68-40cb-a329-c4c11730144f",
   "metadata": {},
   "outputs": [],
   "source": [
    "def f_quantize(q_arg):\n",
    "    input_name = \"input0\"\n",
    "    shape_list = [(input_name, img.shape)]\n",
    "    mod, params = relay.frontend.from_pytorch(scripted_model, shape_list)\n",
    "\n",
    "    # Configuring quantization settings for converting model to 8-bit integers and applying quantization to Relay module\n",
    "    with relay.quantize.qconfig(calibrate_mode='global_scale',\n",
    "                               dtype_input=q_arg,\n",
    "                               dtype_weight=q_arg,\n",
    "                               dtype_activation=q_arg,\n",
    "                               global_scale=8.0):\n",
    "        mod = relay.quantize.quantize(mod, params)\n",
    "\n",
    "    with tvm.transform.PassContext(opt_level=3):\n",
    "        lib = relay.build(mod, target=target, params=params)\n",
    "    return lib"
   ]
  },
  {
   "cell_type": "code",
   "execution_count": 20,
   "id": "d37e29c5-cb9c-4a39-ace7-a84e10061dfa",
   "metadata": {},
   "outputs": [
    {
     "name": "stdout",
     "output_type": "stream",
     "text": [
      "int4 is failing!\n",
      "int2 is failing!\n"
     ]
    }
   ],
   "source": [
    "keys = [\"int8\", \"int4\", \"int2\", \"bool\"]\n",
    "for key in keys:\n",
    "    try:\n",
    "        lib = f_quantize(key)\n",
    "        m = graph_executor.GraphModule(lib[\"default\"](dev))\n",
    "        m.set_input(\"input0\", tvm.nd.array(img.astype(dtype)))\n",
    "    except Exception as e:\n",
    "        print(key + \" is failing!\")"
   ]
  },
  {
   "cell_type": "markdown",
   "id": "998e31e5-58b7-410b-aff9-4c855c78dc9a",
   "metadata": {},
   "source": [
    "We can see from the output that `int4` and `int2` are failing. Before setting up the try-catch block we see here, I tried compiling them one by one and the result I received was \"TVMError: unknown data type int4\" (as seen below). This makes me think that they are probably not supported by the TMV compiler.  "
   ]
  },
  {
   "cell_type": "code",
   "execution_count": 21,
   "id": "881c5eb4-2890-48a4-b71b-62f7ab78b471",
   "metadata": {},
   "outputs": [
    {
     "ename": "TVMError",
     "evalue": "Traceback (most recent call last):\n  30: tvm::relay::transform::FunctionPassNode::operator()(tvm::IRModule, tvm::transform::PassContext const&) const\n        at /home/mila/Desktop/uiuc/tvm/src/relay/ir/transform.cc:133\n  29: unpack_call<tvm::relay::Function, 3, tvm::relay::quantize::QuantizeRealizePass()::<lambda(tvm::relay::Function, tvm::IRModule, tvm::relay::transform::PassContext)> >\n        at /home/mila/Desktop/uiuc/tvm/src/relay/quantize/realize.cc:553\n  28: tvm::relay::ForwardRewrite(tvm::RelayExpr const&, tvm::runtime::String const&, std::function<tvm::runtime::ObjectRef (tvm::relay::Call const&)>, std::function<tvm::RelayExpr (tvm::RelayExpr const&)>)\n        at /home/mila/Desktop/uiuc/tvm/src/relay/transforms/forward_rewrite.cc:177\n  27: tvm::relay::ForwardRewriter::Rewrite(tvm::RelayExpr const&)\n        at /home/mila/Desktop/uiuc/tvm/src/relay/transforms/forward_rewrite.cc:71\n  26: tvm::relay::MixedModeMutator::VisitExpr(tvm::RelayExpr const&)\n        at /home/mila/Desktop/uiuc/tvm/src/relay/ir/expr_functor.cc:102\n  25: ExpandDataflow<tvm::relay::MixedModeMutator::VisitExpr(const Expr&)::<lambda(const Expr&)>, tvm::relay::MixedModeMutator::VisitExpr(const Expr&)::<lambda(const Expr&)> >\n        at /home/mila/Desktop/uiuc/tvm/include/tvm/relay/expr_functor.h:509\n  24: ExpandDataflow<tvm::relay::MixedModeMutator::VisitExpr(const Expr&)::<lambda(const Expr&)>, tvm::relay::MixedModeMutator::VisitExpr(const Expr&)::<lambda(const Expr&)>, tvm::relay::ExpandDataflow<tvm::relay::MixedModeMutator::VisitExpr(const Expr&)::<lambda(const Expr&)>, tvm::relay::MixedModeMutator::VisitExpr(const Expr&)::<lambda(const Expr&)> >(tvm::relay::Expr, tvm::relay::MixedModeMutator::VisitExpr(const Expr&)::<lambda(const Expr&)>, tvm::relay::MixedModeMutator::VisitExpr(const Expr&)::<lambda(const Expr&)>)::<lambda(const Expr&)> >\n        at /home/mila/Desktop/uiuc/tvm/include/tvm/relay/expr_functor.h:468\n  23: operator()\n        at /home/mila/Desktop/uiuc/tvm/src/relay/ir/expr_functor.cc:98\n  22: tvm::relay::MixedModeMutator::VisitLeaf(tvm::RelayExpr const&)\n        at /home/mila/Desktop/uiuc/tvm/src/relay/ir/expr_functor.cc:81\n  21: tvm::relay::MixedModeMutator::DispatchVisitExpr(tvm::RelayExpr const&)\n        at /home/mila/Desktop/uiuc/tvm/src/relay/ir/expr_functor.cc:94\n  20: tvm::relay::ExprMutator::VisitExpr(tvm::RelayExpr const&)\n        at /home/mila/Desktop/uiuc/tvm/src/relay/ir/expr_functor.cc:158\n  19: tvm::relay::ExprFunctor<tvm::RelayExpr (tvm::RelayExpr const&)>::VisitExpr(tvm::RelayExpr const&)\n        at /home/mila/Desktop/uiuc/tvm/include/tvm/relay/expr_functor.h:95\n  18: tvm::relay::ExprFunctor<tvm::RelayExpr (tvm::RelayExpr const&)>::InitVTable()::{lambda(tvm::runtime::ObjectRef const&, tvm::relay::ExprFunctor<tvm::RelayExpr (tvm::RelayExpr const&)>*)#5}::_FUN(tvm::runtime::ObjectRef const&, tvm::relay::ExprFunctor<tvm::RelayExpr (tvm::RelayExpr const&)>*)\n        at /home/mila/Desktop/uiuc/tvm/include/tvm/relay/expr_functor.h:127\n  17: tvm::relay::ExprFunctor<tvm::RelayExpr (tvm::RelayExpr const&)>::InitVTable()::{lambda(tvm::runtime::ObjectRef const&, tvm::relay::ExprFunctor<tvm::RelayExpr (tvm::RelayExpr const&)>*)#5}::operator()(tvm::runtime::ObjectRef const&, tvm::relay::ExprFunctor<tvm::RelayExpr (tvm::RelayExpr const&)>*) const\n        at /home/mila/Desktop/uiuc/tvm/include/tvm/relay/expr_functor.h:127\n  16: tvm::relay::ExprMutator::VisitExpr_(tvm::relay::FunctionNode const*)\n        at /home/mila/Desktop/uiuc/tvm/src/relay/ir/expr_functor.cc:204\n  15: tvm::relay::ExprMutator::Mutate(tvm::RelayExpr const&)\n        at /home/mila/Desktop/uiuc/tvm/include/tvm/relay/expr_functor.h:190\n  14: tvm::relay::MixedModeMutator::VisitExpr(tvm::RelayExpr const&)\n        at /home/mila/Desktop/uiuc/tvm/src/relay/ir/expr_functor.cc:102\n  13: ExpandDataflow<tvm::relay::MixedModeMutator::VisitExpr(const Expr&)::<lambda(const Expr&)>, tvm::relay::MixedModeMutator::VisitExpr(const Expr&)::<lambda(const Expr&)> >\n        at /home/mila/Desktop/uiuc/tvm/include/tvm/relay/expr_functor.h:509\n  12: ExpandDataflow<tvm::relay::MixedModeMutator::VisitExpr(const Expr&)::<lambda(const Expr&)>, tvm::relay::MixedModeMutator::VisitExpr(const Expr&)::<lambda(const Expr&)>, tvm::relay::ExpandDataflow<tvm::relay::MixedModeMutator::VisitExpr(const Expr&)::<lambda(const Expr&)>, tvm::relay::MixedModeMutator::VisitExpr(const Expr&)::<lambda(const Expr&)> >(tvm::relay::Expr, tvm::relay::MixedModeMutator::VisitExpr(const Expr&)::<lambda(const Expr&)>, tvm::relay::MixedModeMutator::VisitExpr(const Expr&)::<lambda(const Expr&)>)::<lambda(const Expr&)> >\n        at /home/mila/Desktop/uiuc/tvm/include/tvm/relay/expr_functor.h:468\n  11: operator()\n        at /home/mila/Desktop/uiuc/tvm/src/relay/ir/expr_functor.cc:98\n  10: tvm::relay::MixedModeMutator::VisitLeaf(tvm::RelayExpr const&)\n        at /home/mila/Desktop/uiuc/tvm/src/relay/ir/expr_functor.cc:81\n  9: tvm::relay::MixedModeMutator::DispatchVisitExpr(tvm::RelayExpr const&)\n        at /home/mila/Desktop/uiuc/tvm/src/relay/ir/expr_functor.cc:94\n  8: tvm::relay::ExprMutator::VisitExpr(tvm::RelayExpr const&)\n        at /home/mila/Desktop/uiuc/tvm/src/relay/ir/expr_functor.cc:158\n  7: tvm::relay::ExprFunctor<tvm::RelayExpr (tvm::RelayExpr const&)>::VisitExpr(tvm::RelayExpr const&)\n        at /home/mila/Desktop/uiuc/tvm/include/tvm/relay/expr_functor.h:95\n  6: tvm::relay::ExprFunctor<tvm::RelayExpr (tvm::RelayExpr const&)>::InitVTable()::{lambda(tvm::runtime::ObjectRef const&, tvm::relay::ExprFunctor<tvm::RelayExpr (tvm::RelayExpr const&)>*)#6}::_FUN(tvm::runtime::ObjectRef const&, tvm::relay::ExprFunctor<tvm::RelayExpr (tvm::RelayExpr const&)>*)\n        at /home/mila/Desktop/uiuc/tvm/include/tvm/relay/expr_functor.h:128\n  5: tvm::relay::ExprFunctor<tvm::RelayExpr (tvm::RelayExpr const&)>::InitVTable()::{lambda(tvm::runtime::ObjectRef const&, tvm::relay::ExprFunctor<tvm::RelayExpr (tvm::RelayExpr const&)>*)#6}::operator()(tvm::runtime::ObjectRef const&, tvm::relay::ExprFunctor<tvm::RelayExpr (tvm::RelayExpr const&)>*) const\n        at /home/mila/Desktop/uiuc/tvm/include/tvm/relay/expr_functor.h:128\n  4: tvm::relay::MixedModeMutator::VisitExpr_(tvm::relay::CallNode const*)\n        at /home/mila/Desktop/uiuc/tvm/include/tvm/relay/expr_functor.h:291\n  3: tvm::RelayExpr tvm::relay::MixedModeMutator::Rewrite<tvm::relay::CallNode>(tvm::relay::CallNode const*)\n        at /home/mila/Desktop/uiuc/tvm/include/tvm/relay/expr_functor.h:313\n  2: tvm::relay::ForwardRewriter::Rewrite_(tvm::relay::CallNode const*, tvm::RelayExpr const&)\n        at /home/mila/Desktop/uiuc/tvm/src/relay/transforms/forward_rewrite.cc:155\n  1: tvm::relay::quantize::QuantizeRealize(tvm::relay::Call const&, tvm::runtime::Array<tvm::RelayExpr, void> const&, tvm::runtime::ObjectRef const&)\n        at /home/mila/Desktop/uiuc/tvm/src/relay/quantize/realize.cc:126\n  0: tvm::relay::Constant tvm::relay::MakeConstantScalar<int>(tvm::runtime::DataType, int)\n        at /home/mila/Desktop/uiuc/tvm/src/relay/quantize/../qnn/./op/../../op/../transforms/pattern_utils.h:290\n  File \"/home/mila/Desktop/uiuc/tvm/src/relay/quantize/../qnn/./op/../../op/../transforms/pattern_utils.h\", line 290\nTVMError: unknown data type int4",
     "output_type": "error",
     "traceback": [
      "\u001b[0;31m---------------------------------------------------------------------------\u001b[0m",
      "\u001b[0;31mTVMError\u001b[0m                                  Traceback (most recent call last)",
      "Cell \u001b[0;32mIn[21], line 1\u001b[0m\n\u001b[0;32m----> 1\u001b[0m \u001b[43mf_quantize\u001b[49m\u001b[43m(\u001b[49m\u001b[38;5;124;43m\"\u001b[39;49m\u001b[38;5;124;43mint4\u001b[39;49m\u001b[38;5;124;43m\"\u001b[39;49m\u001b[43m)\u001b[49m\n",
      "Cell \u001b[0;32mIn[18], line 12\u001b[0m, in \u001b[0;36mf_quantize\u001b[0;34m(q_arg)\u001b[0m\n\u001b[1;32m      6\u001b[0m \u001b[38;5;66;03m# Configuring quantization settings for converting model to 8-bit integers and applying quantization to Relay module\u001b[39;00m\n\u001b[1;32m      7\u001b[0m \u001b[38;5;28;01mwith\u001b[39;00m relay\u001b[38;5;241m.\u001b[39mquantize\u001b[38;5;241m.\u001b[39mqconfig(calibrate_mode\u001b[38;5;241m=\u001b[39m\u001b[38;5;124m'\u001b[39m\u001b[38;5;124mglobal_scale\u001b[39m\u001b[38;5;124m'\u001b[39m,\n\u001b[1;32m      8\u001b[0m                            dtype_input\u001b[38;5;241m=\u001b[39mq_arg,\n\u001b[1;32m      9\u001b[0m                            dtype_weight\u001b[38;5;241m=\u001b[39mq_arg,\n\u001b[1;32m     10\u001b[0m                            dtype_activation\u001b[38;5;241m=\u001b[39mq_arg,\n\u001b[1;32m     11\u001b[0m                            global_scale\u001b[38;5;241m=\u001b[39m\u001b[38;5;241m8.0\u001b[39m):\n\u001b[0;32m---> 12\u001b[0m     mod \u001b[38;5;241m=\u001b[39m \u001b[43mrelay\u001b[49m\u001b[38;5;241;43m.\u001b[39;49m\u001b[43mquantize\u001b[49m\u001b[38;5;241;43m.\u001b[39;49m\u001b[43mquantize\u001b[49m\u001b[43m(\u001b[49m\u001b[43mmod\u001b[49m\u001b[43m,\u001b[49m\u001b[43m \u001b[49m\u001b[43mparams\u001b[49m\u001b[43m)\u001b[49m\n\u001b[1;32m     14\u001b[0m \u001b[38;5;28;01mwith\u001b[39;00m tvm\u001b[38;5;241m.\u001b[39mtransform\u001b[38;5;241m.\u001b[39mPassContext(opt_level\u001b[38;5;241m=\u001b[39m\u001b[38;5;241m3\u001b[39m):\n\u001b[1;32m     15\u001b[0m     lib \u001b[38;5;241m=\u001b[39m relay\u001b[38;5;241m.\u001b[39mbuild(mod, target\u001b[38;5;241m=\u001b[39mtarget, params\u001b[38;5;241m=\u001b[39mparams)\n",
      "File \u001b[0;32m~/Desktop/uiuc/tvm/python/tvm/relay/quantize/quantize.py:370\u001b[0m, in \u001b[0;36mquantize\u001b[0;34m(mod, params, dataset)\u001b[0m\n\u001b[1;32m    366\u001b[0m \u001b[38;5;28;01mwith\u001b[39;00m tvm\u001b[38;5;241m.\u001b[39mtransform\u001b[38;5;241m.\u001b[39mPassContext(\n\u001b[1;32m    367\u001b[0m     opt_level\u001b[38;5;241m=\u001b[39m\u001b[38;5;241m3\u001b[39m, required_pass\u001b[38;5;241m=\u001b[39m[\u001b[38;5;124m\"\u001b[39m\u001b[38;5;124mQuantizeAnnotate\u001b[39m\u001b[38;5;124m\"\u001b[39m, \u001b[38;5;124m\"\u001b[39m\u001b[38;5;124mQuantizeCalibrate\u001b[39m\u001b[38;5;124m\"\u001b[39m, \u001b[38;5;124m\"\u001b[39m\u001b[38;5;124mQuantizeRealize\u001b[39m\u001b[38;5;124m\"\u001b[39m]\n\u001b[1;32m    368\u001b[0m ):\n\u001b[1;32m    369\u001b[0m     \u001b[38;5;28;01mwith\u001b[39;00m quantize_context():\n\u001b[0;32m--> 370\u001b[0m         mod \u001b[38;5;241m=\u001b[39m \u001b[43mquantize_seq\u001b[49m\u001b[43m(\u001b[49m\u001b[43mmod\u001b[49m\u001b[43m)\u001b[49m\n\u001b[1;32m    372\u001b[0m q_cfg \u001b[38;5;241m=\u001b[39m current_qconfig()\n\u001b[1;32m    373\u001b[0m \u001b[38;5;28;01massert\u001b[39;00m q_cfg\u001b[38;5;241m.\u001b[39mpartition_conversions \u001b[38;5;129;01min\u001b[39;00m [\u001b[38;5;124m\"\u001b[39m\u001b[38;5;124mdisabled\u001b[39m\u001b[38;5;124m\"\u001b[39m, \u001b[38;5;124m\"\u001b[39m\u001b[38;5;124menabled\u001b[39m\u001b[38;5;124m\"\u001b[39m, \u001b[38;5;124m\"\u001b[39m\u001b[38;5;124mfully_integral\u001b[39m\u001b[38;5;124m\"\u001b[39m]\n",
      "File \u001b[0;32m~/Desktop/uiuc/tvm/python/tvm/ir/transform.py:238\u001b[0m, in \u001b[0;36mPass.__call__\u001b[0;34m(self, mod)\u001b[0m\n\u001b[1;32m    224\u001b[0m \u001b[38;5;28;01mdef\u001b[39;00m \u001b[38;5;21m__call__\u001b[39m(\u001b[38;5;28mself\u001b[39m, mod):\n\u001b[1;32m    225\u001b[0m \u001b[38;5;250m    \u001b[39m\u001b[38;5;124;03m\"\"\"Execute the pass. Note that for sequential pass, the dependency among\u001b[39;00m\n\u001b[1;32m    226\u001b[0m \u001b[38;5;124;03m    different passes will be resolved in the backend.\u001b[39;00m\n\u001b[1;32m    227\u001b[0m \n\u001b[0;32m   (...)\u001b[0m\n\u001b[1;32m    236\u001b[0m \u001b[38;5;124;03m        The updated module after applying this pass.\u001b[39;00m\n\u001b[1;32m    237\u001b[0m \u001b[38;5;124;03m    \"\"\"\u001b[39;00m\n\u001b[0;32m--> 238\u001b[0m     \u001b[38;5;28;01mreturn\u001b[39;00m \u001b[43m_ffi_transform_api\u001b[49m\u001b[38;5;241;43m.\u001b[39;49m\u001b[43mRunPass\u001b[49m\u001b[43m(\u001b[49m\u001b[38;5;28;43mself\u001b[39;49m\u001b[43m,\u001b[49m\u001b[43m \u001b[49m\u001b[43mmod\u001b[49m\u001b[43m)\u001b[49m\n",
      "File \u001b[0;32m~/Desktop/uiuc/tvm/python/tvm/_ffi/_ctypes/packed_func.py:239\u001b[0m, in \u001b[0;36mPackedFuncBase.__call__\u001b[0;34m(self, *args)\u001b[0m\n\u001b[1;32m    227\u001b[0m ret_tcode \u001b[38;5;241m=\u001b[39m ctypes\u001b[38;5;241m.\u001b[39mc_int()\n\u001b[1;32m    228\u001b[0m \u001b[38;5;28;01mif\u001b[39;00m (\n\u001b[1;32m    229\u001b[0m     _LIB\u001b[38;5;241m.\u001b[39mTVMFuncCall(\n\u001b[1;32m    230\u001b[0m         \u001b[38;5;28mself\u001b[39m\u001b[38;5;241m.\u001b[39mhandle,\n\u001b[0;32m   (...)\u001b[0m\n\u001b[1;32m    237\u001b[0m     \u001b[38;5;241m!=\u001b[39m \u001b[38;5;241m0\u001b[39m\n\u001b[1;32m    238\u001b[0m ):\n\u001b[0;32m--> 239\u001b[0m     \u001b[43mraise_last_ffi_error\u001b[49m\u001b[43m(\u001b[49m\u001b[43m)\u001b[49m\n\u001b[1;32m    240\u001b[0m _ \u001b[38;5;241m=\u001b[39m temp_args\n\u001b[1;32m    241\u001b[0m _ \u001b[38;5;241m=\u001b[39m args\n",
      "File \u001b[0;32m~/Desktop/uiuc/tvm/python/tvm/_ffi/base.py:481\u001b[0m, in \u001b[0;36mraise_last_ffi_error\u001b[0;34m()\u001b[0m\n\u001b[1;32m    475\u001b[0m \u001b[38;5;66;03m# The exception PyObject may contain a large amount of state,\u001b[39;00m\n\u001b[1;32m    476\u001b[0m \u001b[38;5;66;03m# including all stack frames that may be inspected in a later\u001b[39;00m\n\u001b[1;32m    477\u001b[0m \u001b[38;5;66;03m# PDB post-mortem.  Therefore, we must make sure to remove the\u001b[39;00m\n\u001b[1;32m    478\u001b[0m \u001b[38;5;66;03m# underlying PyObject* from the C++ side after we retrieve it.\u001b[39;00m\n\u001b[1;32m    479\u001b[0m _LIB\u001b[38;5;241m.\u001b[39mTVMDropLastPythonError()\n\u001b[0;32m--> 481\u001b[0m \u001b[38;5;28;01mraise\u001b[39;00m py_err\n",
      "File \u001b[0;32m~/Desktop/uiuc/tvm/src/relay/ir/transform.cc:133\u001b[0m, in \u001b[0;36mtvm::relay::transform::FunctionPassNode::operator()(tvm::IRModule, tvm::transform::PassContext const&) const\u001b[0;34m()\u001b[0m\n\u001b[1;32m    131\u001b[0m // only process optimizable Relay Functions\n\u001b[1;32m    132\u001b[0m if (const auto* function_node = AsOptimizableFunctionNode(kv.second)) {\n\u001b[0;32m--> 133\u001b[0m   Function updated_func = pass_func(GetRef<Function>(function_node), updated_mod, pass_ctx);\n\u001b[1;32m    134\u001b[0m   updates.push_back({kv.first, std::move(updated_func)});\n\u001b[1;32m    135\u001b[0m }\n",
      "File \u001b[0;32m~/Desktop/uiuc/tvm/src/relay/quantize/realize.cc:553\u001b[0m, in \u001b[0;36munpack_call<tvm::relay::Function, 3, tvm::relay::quantize::QuantizeRealizePass()::<lambda(tvm::relay::Function, tvm::IRModule, tvm::relay::transform::PassContext)> >\u001b[0;34m()\u001b[0m\n\u001b[1;32m    551\u001b[0m runtime::TypedPackedFunc<Function(Function, IRModule, PassContext)> pass_func =\n\u001b[1;32m    552\u001b[0m     [=](Function f, IRModule m, PassContext pc) {\n\u001b[0;32m--> 553\u001b[0m       return Downcast<Function>(ForwardRewrite(f, \"FQRealizeRewrite\", nullptr, nullptr));\n\u001b[1;32m    554\u001b[0m     };\n\u001b[1;32m    555\u001b[0m return CreateFunctionPass(pass_func, 1, \"QuantizeRealize\", {});\n",
      "File \u001b[0;32m~/Desktop/uiuc/tvm/src/relay/transforms/forward_rewrite.cc:177\u001b[0m, in \u001b[0;36mtvm::relay::ForwardRewrite(tvm::RelayExpr const&, tvm::runtime::String const&, std::function<tvm::runtime::ObjectRef (tvm::relay::Call const&)>, std::function<tvm::RelayExpr (tvm::RelayExpr const&)>)\u001b[0;34m()\u001b[0m\n\u001b[1;32m    175\u001b[0m                     std::function<Expr(const Expr&)> fmulti_ref_trigger) {\n\u001b[1;32m    176\u001b[0m   auto rewrite_map = Op::GetAttrMap<FForwardRewrite>(rewrite_map_name);\n\u001b[0;32m--> 177\u001b[0m   return ForwardRewriter(&rewrite_map, fcontext, fmulti_ref_trigger).Rewrite(expr);\n\u001b[1;32m    178\u001b[0m }\n\u001b[1;32m    179\u001b[0m \n",
      "File \u001b[0;32m~/Desktop/uiuc/tvm/src/relay/transforms/forward_rewrite.cc:71\u001b[0m, in \u001b[0;36mtvm::relay::ForwardRewriter::Rewrite(tvm::RelayExpr const&)\u001b[0;34m()\u001b[0m\n\u001b[1;32m     69\u001b[0m     ref_counter_ = GetExprRefCount(expr);\n\u001b[1;32m     70\u001b[0m   }\n\u001b[0;32m---> 71\u001b[0m   return realizer_.Realize(this->VisitExpr(expr));\n\u001b[1;32m     72\u001b[0m }\n\u001b[1;32m     73\u001b[0m \n",
      "File \u001b[0;32m~/Desktop/uiuc/tvm/src/relay/ir/expr_functor.cc:102\u001b[0m, in \u001b[0;36mtvm::relay::MixedModeMutator::VisitExpr(tvm::RelayExpr const&)\u001b[0;34m()\u001b[0m\n\u001b[1;32m    100\u001b[0m   return memo_[expr];\n\u001b[1;32m    101\u001b[0m } else {\n\u001b[0;32m--> 102\u001b[0m   ExpandDataflow(expr, fcheck_visited, fvisit_leaf);\n\u001b[1;32m    103\u001b[0m   return memo_[expr];\n\u001b[1;32m    104\u001b[0m }\n",
      "File \u001b[0;32m~/Desktop/uiuc/tvm/include/tvm/relay/expr_functor.h:509\u001b[0m, in \u001b[0;36mExpandDataflow<tvm::relay::MixedModeMutator::VisitExpr(const Expr&)::<lambda(const Expr&)>, tvm::relay::MixedModeMutator::VisitExpr(const Expr&)::<lambda(const Expr&)> >\u001b[0;34m()\u001b[0m\n\u001b[1;32m    507\u001b[0m     return result;\n\u001b[1;32m    508\u001b[0m   };\n\u001b[0;32m--> 509\u001b[0m   ExpandDataflow(expr, fcheck_visited, fvisit_leaf, fexpand_expr);\n\u001b[1;32m    510\u001b[0m }\n\u001b[1;32m    511\u001b[0m \n",
      "File \u001b[0;32m~/Desktop/uiuc/tvm/include/tvm/relay/expr_functor.h:468\u001b[0m, in \u001b[0;36mExpandDataflow<tvm::relay::MixedModeMutator::VisitExpr(const Expr&)::<lambda(const Expr&)>, tvm::relay::MixedModeMutator::VisitExpr(const Expr&)::<lambda(const Expr&)>, tvm::relay::ExpandDataflow<tvm::relay::MixedModeMutator::VisitExpr(const Expr&)::<lambda(const Expr&)>, tvm::relay::MixedModeMutator::VisitExpr(const Expr&)::<lambda(const Expr&)> >(tvm::relay::Expr, tvm::relay::MixedModeMutator::VisitExpr(const Expr&)::<lambda(const Expr&)>, tvm::relay::MixedModeMutator::VisitExpr(const Expr&)::<lambda(const Expr&)>)::<lambda(const Expr&)> >\u001b[0;34m()\u001b[0m\n\u001b[1;32m    466\u001b[0m   stack.pop_front();\n\u001b[1;32m    467\u001b[0m } else if (front->children_expanded) {\n\u001b[0;32m--> 468\u001b[0m   fvisit_leaf(front->node);\n\u001b[1;32m    469\u001b[0m   // TODO(d-smirnov): this is for compatibility with current implementation of MixedModeVisitor\n\u001b[1;32m    470\u001b[0m   stack.pop_front();\n",
      "File \u001b[0;32m~/Desktop/uiuc/tvm/src/relay/ir/expr_functor.cc:98\u001b[0m, in \u001b[0;36moperator()\u001b[0;34m()\u001b[0m\n\u001b[1;32m     96\u001b[0m Expr MixedModeMutator::VisitExpr(const Expr& expr) {\n\u001b[1;32m     97\u001b[0m   auto fcheck_visited = [this](const Expr& expr) { return this->CheckVisited(expr); };\n\u001b[0;32m---> 98\u001b[0m   auto fvisit_leaf = [this](const Expr& expr) { return this->VisitLeaf(expr); };\n\u001b[1;32m     99\u001b[0m   if (memo_.count(expr)) {\n\u001b[1;32m    100\u001b[0m     return memo_[expr];\n",
      "File \u001b[0;32m~/Desktop/uiuc/tvm/src/relay/ir/expr_functor.cc:81\u001b[0m, in \u001b[0;36mtvm::relay::MixedModeMutator::VisitLeaf(tvm::RelayExpr const&)\u001b[0;34m()\u001b[0m\n\u001b[1;32m     79\u001b[0m void MixedModeMutator::VisitLeaf(const Expr& expr) {\n\u001b[1;32m     80\u001b[0m   if (!memo_.count(expr)) {\n\u001b[0;32m---> 81\u001b[0m     Expr ret = this->DispatchVisitExpr(expr);\n\u001b[1;32m     82\u001b[0m     memo_[expr] = ret;\n\u001b[1;32m     83\u001b[0m   }\n",
      "File \u001b[0;32m~/Desktop/uiuc/tvm/src/relay/ir/expr_functor.cc:94\u001b[0m, in \u001b[0;36mtvm::relay::MixedModeMutator::DispatchVisitExpr(tvm::RelayExpr const&)\u001b[0;34m()\u001b[0m\n\u001b[1;32m     92\u001b[0m }\n\u001b[1;32m     93\u001b[0m \n\u001b[0;32m---> 94\u001b[0m Expr MixedModeMutator::DispatchVisitExpr(const Expr& expr) { return ExprMutator::VisitExpr(expr); }\n\u001b[1;32m     95\u001b[0m \n\u001b[1;32m     96\u001b[0m Expr MixedModeMutator::VisitExpr(const Expr& expr) {\n",
      "File \u001b[0;32m~/Desktop/uiuc/tvm/src/relay/ir/expr_functor.cc:158\u001b[0m, in \u001b[0;36mtvm::relay::ExprMutator::VisitExpr(tvm::RelayExpr const&)\u001b[0;34m()\u001b[0m\n\u001b[1;32m    156\u001b[0m   return it->second;\n\u001b[1;32m    157\u001b[0m } else {\n\u001b[0;32m--> 158\u001b[0m   Expr new_expr = ExprFunctor::VisitExpr(expr);\n\u001b[1;32m    159\u001b[0m   memo_[expr] = new_expr;\n\u001b[1;32m    160\u001b[0m   return new_expr;\n",
      "File \u001b[0;32m~/Desktop/uiuc/tvm/include/tvm/relay/expr_functor.h:95\u001b[0m, in \u001b[0;36mtvm::relay::ExprFunctor<tvm::RelayExpr (tvm::RelayExpr const&)>::VisitExpr(tvm::RelayExpr const&)\u001b[0;34m()\u001b[0m\n\u001b[1;32m     93\u001b[0m                          \"have generated invalid data.\";\n\u001b[1;32m     94\u001b[0m   static FType vtable = InitVTable();\n\u001b[0;32m---> 95\u001b[0m   return vtable(n, this, std::forward<Args>(args)...);\n\u001b[1;32m     96\u001b[0m }\n\u001b[1;32m     97\u001b[0m // Functions that can be overriden by subclass\n",
      "File \u001b[0;32m~/Desktop/uiuc/tvm/include/tvm/relay/expr_functor.h:127\u001b[0m, in \u001b[0;36mtvm::relay::ExprFunctor<tvm::RelayExpr (tvm::RelayExpr const&)>::InitVTable()::{lambda(tvm::runtime::ObjectRef const&, tvm::relay::ExprFunctor<tvm::RelayExpr (tvm::RelayExpr const&)>*)#5}::_FUN(tvm::runtime::ObjectRef const&, tvm::relay::ExprFunctor<tvm::RelayExpr (tvm::RelayExpr const&)>*)\u001b[0;34m()\u001b[0m\n\u001b[1;32m    125\u001b[0m RELAY_EXPR_FUNCTOR_DISPATCH(VarNode);\n\u001b[1;32m    126\u001b[0m RELAY_EXPR_FUNCTOR_DISPATCH(GlobalVarNode);\n\u001b[0;32m--> 127\u001b[0m RELAY_EXPR_FUNCTOR_DISPATCH(FunctionNode);\n\u001b[1;32m    128\u001b[0m RELAY_EXPR_FUNCTOR_DISPATCH(CallNode);\n\u001b[1;32m    129\u001b[0m RELAY_EXPR_FUNCTOR_DISPATCH(LetNode);\n",
      "File \u001b[0;32m~/Desktop/uiuc/tvm/include/tvm/relay/expr_functor.h:127\u001b[0m, in \u001b[0;36mtvm::relay::ExprFunctor<tvm::RelayExpr (tvm::RelayExpr const&)>::InitVTable()::{lambda(tvm::runtime::ObjectRef const&, tvm::relay::ExprFunctor<tvm::RelayExpr (tvm::RelayExpr const&)>*)#5}::operator()(tvm::runtime::ObjectRef const&, tvm::relay::ExprFunctor<tvm::RelayExpr (tvm::RelayExpr const&)>*) const\u001b[0;34m()\u001b[0m\n\u001b[1;32m    125\u001b[0m RELAY_EXPR_FUNCTOR_DISPATCH(VarNode);\n\u001b[1;32m    126\u001b[0m RELAY_EXPR_FUNCTOR_DISPATCH(GlobalVarNode);\n\u001b[0;32m--> 127\u001b[0m RELAY_EXPR_FUNCTOR_DISPATCH(FunctionNode);\n\u001b[1;32m    128\u001b[0m RELAY_EXPR_FUNCTOR_DISPATCH(CallNode);\n\u001b[1;32m    129\u001b[0m RELAY_EXPR_FUNCTOR_DISPATCH(LetNode);\n",
      "File \u001b[0;32m~/Desktop/uiuc/tvm/src/relay/ir/expr_functor.cc:204\u001b[0m, in \u001b[0;36mtvm::relay::ExprMutator::VisitExpr_(tvm::relay::FunctionNode const*)\u001b[0;34m()\u001b[0m\n\u001b[1;32m    202\u001b[0m \n\u001b[1;32m    203\u001b[0m   auto ret_type = this->VisitType(func_node->ret_type);\n\u001b[0;32m--> 204\u001b[0m   auto body = this->Mutate(func_node->body);\n\u001b[1;32m    205\u001b[0m \n\u001b[1;32m    206\u001b[0m   return WithFields(GetRef<Function>(func_node), params, body, ret_type, ty_params);\n",
      "File \u001b[0;32m~/Desktop/uiuc/tvm/include/tvm/relay/expr_functor.h:190\u001b[0m, in \u001b[0;36mtvm::relay::ExprMutator::Mutate(tvm::RelayExpr const&)\u001b[0;34m()\u001b[0m\n\u001b[1;32m    188\u001b[0m  * \\return expr.\n\u001b[1;32m    189\u001b[0m  */\n\u001b[0;32m--> 190\u001b[0m Expr Mutate(const Expr& expr) { return this->VisitExpr(expr); }\n\u001b[1;32m    191\u001b[0m Expr VisitExpr(const Expr& expr) override;\n\u001b[1;32m    192\u001b[0m Expr VisitExpr_(const VarNode* op) override;\n",
      "File \u001b[0;32m~/Desktop/uiuc/tvm/src/relay/ir/expr_functor.cc:102\u001b[0m, in \u001b[0;36mtvm::relay::MixedModeMutator::VisitExpr(tvm::RelayExpr const&)\u001b[0;34m()\u001b[0m\n\u001b[1;32m    100\u001b[0m   return memo_[expr];\n\u001b[1;32m    101\u001b[0m } else {\n\u001b[0;32m--> 102\u001b[0m   ExpandDataflow(expr, fcheck_visited, fvisit_leaf);\n\u001b[1;32m    103\u001b[0m   return memo_[expr];\n\u001b[1;32m    104\u001b[0m }\n",
      "File \u001b[0;32m~/Desktop/uiuc/tvm/include/tvm/relay/expr_functor.h:509\u001b[0m, in \u001b[0;36mExpandDataflow<tvm::relay::MixedModeMutator::VisitExpr(const Expr&)::<lambda(const Expr&)>, tvm::relay::MixedModeMutator::VisitExpr(const Expr&)::<lambda(const Expr&)> >\u001b[0;34m()\u001b[0m\n\u001b[1;32m    507\u001b[0m     return result;\n\u001b[1;32m    508\u001b[0m   };\n\u001b[0;32m--> 509\u001b[0m   ExpandDataflow(expr, fcheck_visited, fvisit_leaf, fexpand_expr);\n\u001b[1;32m    510\u001b[0m }\n\u001b[1;32m    511\u001b[0m \n",
      "File \u001b[0;32m~/Desktop/uiuc/tvm/include/tvm/relay/expr_functor.h:468\u001b[0m, in \u001b[0;36mExpandDataflow<tvm::relay::MixedModeMutator::VisitExpr(const Expr&)::<lambda(const Expr&)>, tvm::relay::MixedModeMutator::VisitExpr(const Expr&)::<lambda(const Expr&)>, tvm::relay::ExpandDataflow<tvm::relay::MixedModeMutator::VisitExpr(const Expr&)::<lambda(const Expr&)>, tvm::relay::MixedModeMutator::VisitExpr(const Expr&)::<lambda(const Expr&)> >(tvm::relay::Expr, tvm::relay::MixedModeMutator::VisitExpr(const Expr&)::<lambda(const Expr&)>, tvm::relay::MixedModeMutator::VisitExpr(const Expr&)::<lambda(const Expr&)>)::<lambda(const Expr&)> >\u001b[0;34m()\u001b[0m\n\u001b[1;32m    466\u001b[0m   stack.pop_front();\n\u001b[1;32m    467\u001b[0m } else if (front->children_expanded) {\n\u001b[0;32m--> 468\u001b[0m   fvisit_leaf(front->node);\n\u001b[1;32m    469\u001b[0m   // TODO(d-smirnov): this is for compatibility with current implementation of MixedModeVisitor\n\u001b[1;32m    470\u001b[0m   stack.pop_front();\n",
      "File \u001b[0;32m~/Desktop/uiuc/tvm/src/relay/ir/expr_functor.cc:98\u001b[0m, in \u001b[0;36moperator()\u001b[0;34m()\u001b[0m\n\u001b[1;32m     96\u001b[0m Expr MixedModeMutator::VisitExpr(const Expr& expr) {\n\u001b[1;32m     97\u001b[0m   auto fcheck_visited = [this](const Expr& expr) { return this->CheckVisited(expr); };\n\u001b[0;32m---> 98\u001b[0m   auto fvisit_leaf = [this](const Expr& expr) { return this->VisitLeaf(expr); };\n\u001b[1;32m     99\u001b[0m   if (memo_.count(expr)) {\n\u001b[1;32m    100\u001b[0m     return memo_[expr];\n",
      "File \u001b[0;32m~/Desktop/uiuc/tvm/src/relay/ir/expr_functor.cc:81\u001b[0m, in \u001b[0;36mtvm::relay::MixedModeMutator::VisitLeaf(tvm::RelayExpr const&)\u001b[0;34m()\u001b[0m\n\u001b[1;32m     79\u001b[0m void MixedModeMutator::VisitLeaf(const Expr& expr) {\n\u001b[1;32m     80\u001b[0m   if (!memo_.count(expr)) {\n\u001b[0;32m---> 81\u001b[0m     Expr ret = this->DispatchVisitExpr(expr);\n\u001b[1;32m     82\u001b[0m     memo_[expr] = ret;\n\u001b[1;32m     83\u001b[0m   }\n",
      "File \u001b[0;32m~/Desktop/uiuc/tvm/src/relay/ir/expr_functor.cc:94\u001b[0m, in \u001b[0;36mtvm::relay::MixedModeMutator::DispatchVisitExpr(tvm::RelayExpr const&)\u001b[0;34m()\u001b[0m\n\u001b[1;32m     92\u001b[0m }\n\u001b[1;32m     93\u001b[0m \n\u001b[0;32m---> 94\u001b[0m Expr MixedModeMutator::DispatchVisitExpr(const Expr& expr) { return ExprMutator::VisitExpr(expr); }\n\u001b[1;32m     95\u001b[0m \n\u001b[1;32m     96\u001b[0m Expr MixedModeMutator::VisitExpr(const Expr& expr) {\n",
      "File \u001b[0;32m~/Desktop/uiuc/tvm/src/relay/ir/expr_functor.cc:158\u001b[0m, in \u001b[0;36mtvm::relay::ExprMutator::VisitExpr(tvm::RelayExpr const&)\u001b[0;34m()\u001b[0m\n\u001b[1;32m    156\u001b[0m   return it->second;\n\u001b[1;32m    157\u001b[0m } else {\n\u001b[0;32m--> 158\u001b[0m   Expr new_expr = ExprFunctor::VisitExpr(expr);\n\u001b[1;32m    159\u001b[0m   memo_[expr] = new_expr;\n\u001b[1;32m    160\u001b[0m   return new_expr;\n",
      "File \u001b[0;32m~/Desktop/uiuc/tvm/include/tvm/relay/expr_functor.h:95\u001b[0m, in \u001b[0;36mtvm::relay::ExprFunctor<tvm::RelayExpr (tvm::RelayExpr const&)>::VisitExpr(tvm::RelayExpr const&)\u001b[0;34m()\u001b[0m\n\u001b[1;32m     93\u001b[0m                          \"have generated invalid data.\";\n\u001b[1;32m     94\u001b[0m   static FType vtable = InitVTable();\n\u001b[0;32m---> 95\u001b[0m   return vtable(n, this, std::forward<Args>(args)...);\n\u001b[1;32m     96\u001b[0m }\n\u001b[1;32m     97\u001b[0m // Functions that can be overriden by subclass\n",
      "File \u001b[0;32m~/Desktop/uiuc/tvm/include/tvm/relay/expr_functor.h:128\u001b[0m, in \u001b[0;36mtvm::relay::ExprFunctor<tvm::RelayExpr (tvm::RelayExpr const&)>::InitVTable()::{lambda(tvm::runtime::ObjectRef const&, tvm::relay::ExprFunctor<tvm::RelayExpr (tvm::RelayExpr const&)>*)#6}::_FUN(tvm::runtime::ObjectRef const&, tvm::relay::ExprFunctor<tvm::RelayExpr (tvm::RelayExpr const&)>*)\u001b[0;34m()\u001b[0m\n\u001b[1;32m    126\u001b[0m RELAY_EXPR_FUNCTOR_DISPATCH(GlobalVarNode);\n\u001b[1;32m    127\u001b[0m RELAY_EXPR_FUNCTOR_DISPATCH(FunctionNode);\n\u001b[0;32m--> 128\u001b[0m RELAY_EXPR_FUNCTOR_DISPATCH(CallNode);\n\u001b[1;32m    129\u001b[0m RELAY_EXPR_FUNCTOR_DISPATCH(LetNode);\n\u001b[1;32m    130\u001b[0m RELAY_EXPR_FUNCTOR_DISPATCH(IfNode);\n",
      "File \u001b[0;32m~/Desktop/uiuc/tvm/include/tvm/relay/expr_functor.h:128\u001b[0m, in \u001b[0;36mtvm::relay::ExprFunctor<tvm::RelayExpr (tvm::RelayExpr const&)>::InitVTable()::{lambda(tvm::runtime::ObjectRef const&, tvm::relay::ExprFunctor<tvm::RelayExpr (tvm::RelayExpr const&)>*)#6}::operator()(tvm::runtime::ObjectRef const&, tvm::relay::ExprFunctor<tvm::RelayExpr (tvm::RelayExpr const&)>*) const\u001b[0;34m()\u001b[0m\n\u001b[1;32m    126\u001b[0m RELAY_EXPR_FUNCTOR_DISPATCH(GlobalVarNode);\n\u001b[1;32m    127\u001b[0m RELAY_EXPR_FUNCTOR_DISPATCH(FunctionNode);\n\u001b[0;32m--> 128\u001b[0m RELAY_EXPR_FUNCTOR_DISPATCH(CallNode);\n\u001b[1;32m    129\u001b[0m RELAY_EXPR_FUNCTOR_DISPATCH(LetNode);\n\u001b[1;32m    130\u001b[0m RELAY_EXPR_FUNCTOR_DISPATCH(IfNode);\n",
      "File \u001b[0;32m~/Desktop/uiuc/tvm/include/tvm/relay/expr_functor.h:291\u001b[0m, in \u001b[0;36mtvm::relay::MixedModeMutator::VisitExpr_(tvm::relay::CallNode const*)\u001b[0;34m()\u001b[0m\n\u001b[1;32m    289\u001b[0m virtual Expr DispatchVisitExpr(const Expr& expr);\n\u001b[1;32m    290\u001b[0m Expr VisitExpr_(const TupleNode* op) final { return Rewrite(op); };\n\u001b[0;32m--> 291\u001b[0m Expr VisitExpr_(const CallNode* call_node) final { return Rewrite(call_node); };\n\u001b[1;32m    292\u001b[0m Expr VisitExpr_(const TupleGetItemNode* op) final { return Rewrite(op); };\n\u001b[1;32m    293\u001b[0m /*!\n",
      "File \u001b[0;32m~/Desktop/uiuc/tvm/include/tvm/relay/expr_functor.h:313\u001b[0m, in \u001b[0;36mtvm::RelayExpr tvm::relay::MixedModeMutator::Rewrite<tvm::relay::CallNode>(tvm::relay::CallNode const*)\u001b[0;34m()\u001b[0m\n\u001b[1;32m    311\u001b[0m Expr Rewrite(const T* op) {\n\u001b[1;32m    312\u001b[0m   Expr post = ExprMutator::VisitExpr_(op);\n\u001b[0;32m--> 313\u001b[0m   return Rewrite_(op, post);\n\u001b[1;32m    314\u001b[0m }\n\u001b[1;32m    315\u001b[0m \n",
      "File \u001b[0;32m~/Desktop/uiuc/tvm/src/relay/transforms/forward_rewrite.cc:155\u001b[0m, in \u001b[0;36mtvm::relay::ForwardRewriter::Rewrite_(tvm::relay::CallNode const*, tvm::RelayExpr const&)\u001b[0;34m()\u001b[0m\n\u001b[1;32m    153\u001b[0m // try to rewrite.\n\u001b[1;32m    154\u001b[0m if (frewrite != nullptr) {\n\u001b[0;32m--> 155\u001b[0m   Expr res = frewrite(ref_call, call_args,\n\u001b[1;32m    156\u001b[0m                       fcontext_ != nullptr ? fcontext_(ref_call) : ObjectRef(nullptr));\n\u001b[1;32m    157\u001b[0m   if (res.defined()) return res;\n",
      "File \u001b[0;32m~/Desktop/uiuc/tvm/src/relay/quantize/realize.cc:126\u001b[0m, in \u001b[0;36mtvm::relay::quantize::QuantizeRealize(tvm::relay::Call const&, tvm::runtime::Array<tvm::RelayExpr, void> const&, tvm::runtime::ObjectRef const&)\u001b[0;34m()\u001b[0m\n\u001b[1;32m    124\u001b[0m if (cfg->round_for_shift) {\n\u001b[1;32m    125\u001b[0m   float round_bias = std::pow(2.0, shift_nbit - 1);\n\u001b[0;32m--> 126\u001b[0m   data = Add(data, MakeConstantScalar(cfg->dtype_activation, static_cast<int>(round_bias)));\n\u001b[1;32m    127\u001b[0m }\n\u001b[1;32m    128\u001b[0m data = RightShift(data,\n",
      "File \u001b[0;32m~/Desktop/uiuc/tvm/src/relay/quantize/../qnn/./op/../../op/../transforms/pattern_utils.h:290\u001b[0m, in \u001b[0;36mtvm::relay::Constant tvm::relay::MakeConstantScalar<int>(tvm::runtime::DataType, int)\u001b[0;34m()\u001b[0m\n\u001b[1;32m    288\u001b[0m inline Constant MakeConstantScalar(DataType dtype, T value) {\n\u001b[1;32m    289\u001b[0m   runtime::NDArray arr = runtime::NDArray::Empty({}, dtype, {kDLCPU, 0});\n\u001b[0;32m--> 290\u001b[0m   TVM_DTYPE_DISPATCH(dtype, DType, {\n\u001b[1;32m    291\u001b[0m     if (dtype == DataType::Float(16)) {\n\u001b[1;32m    292\u001b[0m       // convert to float16\n",
      "\u001b[0;31mTVMError\u001b[0m: Traceback (most recent call last):\n  30: tvm::relay::transform::FunctionPassNode::operator()(tvm::IRModule, tvm::transform::PassContext const&) const\n        at /home/mila/Desktop/uiuc/tvm/src/relay/ir/transform.cc:133\n  29: unpack_call<tvm::relay::Function, 3, tvm::relay::quantize::QuantizeRealizePass()::<lambda(tvm::relay::Function, tvm::IRModule, tvm::relay::transform::PassContext)> >\n        at /home/mila/Desktop/uiuc/tvm/src/relay/quantize/realize.cc:553\n  28: tvm::relay::ForwardRewrite(tvm::RelayExpr const&, tvm::runtime::String const&, std::function<tvm::runtime::ObjectRef (tvm::relay::Call const&)>, std::function<tvm::RelayExpr (tvm::RelayExpr const&)>)\n        at /home/mila/Desktop/uiuc/tvm/src/relay/transforms/forward_rewrite.cc:177\n  27: tvm::relay::ForwardRewriter::Rewrite(tvm::RelayExpr const&)\n        at /home/mila/Desktop/uiuc/tvm/src/relay/transforms/forward_rewrite.cc:71\n  26: tvm::relay::MixedModeMutator::VisitExpr(tvm::RelayExpr const&)\n        at /home/mila/Desktop/uiuc/tvm/src/relay/ir/expr_functor.cc:102\n  25: ExpandDataflow<tvm::relay::MixedModeMutator::VisitExpr(const Expr&)::<lambda(const Expr&)>, tvm::relay::MixedModeMutator::VisitExpr(const Expr&)::<lambda(const Expr&)> >\n        at /home/mila/Desktop/uiuc/tvm/include/tvm/relay/expr_functor.h:509\n  24: ExpandDataflow<tvm::relay::MixedModeMutator::VisitExpr(const Expr&)::<lambda(const Expr&)>, tvm::relay::MixedModeMutator::VisitExpr(const Expr&)::<lambda(const Expr&)>, tvm::relay::ExpandDataflow<tvm::relay::MixedModeMutator::VisitExpr(const Expr&)::<lambda(const Expr&)>, tvm::relay::MixedModeMutator::VisitExpr(const Expr&)::<lambda(const Expr&)> >(tvm::relay::Expr, tvm::relay::MixedModeMutator::VisitExpr(const Expr&)::<lambda(const Expr&)>, tvm::relay::MixedModeMutator::VisitExpr(const Expr&)::<lambda(const Expr&)>)::<lambda(const Expr&)> >\n        at /home/mila/Desktop/uiuc/tvm/include/tvm/relay/expr_functor.h:468\n  23: operator()\n        at /home/mila/Desktop/uiuc/tvm/src/relay/ir/expr_functor.cc:98\n  22: tvm::relay::MixedModeMutator::VisitLeaf(tvm::RelayExpr const&)\n        at /home/mila/Desktop/uiuc/tvm/src/relay/ir/expr_functor.cc:81\n  21: tvm::relay::MixedModeMutator::DispatchVisitExpr(tvm::RelayExpr const&)\n        at /home/mila/Desktop/uiuc/tvm/src/relay/ir/expr_functor.cc:94\n  20: tvm::relay::ExprMutator::VisitExpr(tvm::RelayExpr const&)\n        at /home/mila/Desktop/uiuc/tvm/src/relay/ir/expr_functor.cc:158\n  19: tvm::relay::ExprFunctor<tvm::RelayExpr (tvm::RelayExpr const&)>::VisitExpr(tvm::RelayExpr const&)\n        at /home/mila/Desktop/uiuc/tvm/include/tvm/relay/expr_functor.h:95\n  18: tvm::relay::ExprFunctor<tvm::RelayExpr (tvm::RelayExpr const&)>::InitVTable()::{lambda(tvm::runtime::ObjectRef const&, tvm::relay::ExprFunctor<tvm::RelayExpr (tvm::RelayExpr const&)>*)#5}::_FUN(tvm::runtime::ObjectRef const&, tvm::relay::ExprFunctor<tvm::RelayExpr (tvm::RelayExpr const&)>*)\n        at /home/mila/Desktop/uiuc/tvm/include/tvm/relay/expr_functor.h:127\n  17: tvm::relay::ExprFunctor<tvm::RelayExpr (tvm::RelayExpr const&)>::InitVTable()::{lambda(tvm::runtime::ObjectRef const&, tvm::relay::ExprFunctor<tvm::RelayExpr (tvm::RelayExpr const&)>*)#5}::operator()(tvm::runtime::ObjectRef const&, tvm::relay::ExprFunctor<tvm::RelayExpr (tvm::RelayExpr const&)>*) const\n        at /home/mila/Desktop/uiuc/tvm/include/tvm/relay/expr_functor.h:127\n  16: tvm::relay::ExprMutator::VisitExpr_(tvm::relay::FunctionNode const*)\n        at /home/mila/Desktop/uiuc/tvm/src/relay/ir/expr_functor.cc:204\n  15: tvm::relay::ExprMutator::Mutate(tvm::RelayExpr const&)\n        at /home/mila/Desktop/uiuc/tvm/include/tvm/relay/expr_functor.h:190\n  14: tvm::relay::MixedModeMutator::VisitExpr(tvm::RelayExpr const&)\n        at /home/mila/Desktop/uiuc/tvm/src/relay/ir/expr_functor.cc:102\n  13: ExpandDataflow<tvm::relay::MixedModeMutator::VisitExpr(const Expr&)::<lambda(const Expr&)>, tvm::relay::MixedModeMutator::VisitExpr(const Expr&)::<lambda(const Expr&)> >\n        at /home/mila/Desktop/uiuc/tvm/include/tvm/relay/expr_functor.h:509\n  12: ExpandDataflow<tvm::relay::MixedModeMutator::VisitExpr(const Expr&)::<lambda(const Expr&)>, tvm::relay::MixedModeMutator::VisitExpr(const Expr&)::<lambda(const Expr&)>, tvm::relay::ExpandDataflow<tvm::relay::MixedModeMutator::VisitExpr(const Expr&)::<lambda(const Expr&)>, tvm::relay::MixedModeMutator::VisitExpr(const Expr&)::<lambda(const Expr&)> >(tvm::relay::Expr, tvm::relay::MixedModeMutator::VisitExpr(const Expr&)::<lambda(const Expr&)>, tvm::relay::MixedModeMutator::VisitExpr(const Expr&)::<lambda(const Expr&)>)::<lambda(const Expr&)> >\n        at /home/mila/Desktop/uiuc/tvm/include/tvm/relay/expr_functor.h:468\n  11: operator()\n        at /home/mila/Desktop/uiuc/tvm/src/relay/ir/expr_functor.cc:98\n  10: tvm::relay::MixedModeMutator::VisitLeaf(tvm::RelayExpr const&)\n        at /home/mila/Desktop/uiuc/tvm/src/relay/ir/expr_functor.cc:81\n  9: tvm::relay::MixedModeMutator::DispatchVisitExpr(tvm::RelayExpr const&)\n        at /home/mila/Desktop/uiuc/tvm/src/relay/ir/expr_functor.cc:94\n  8: tvm::relay::ExprMutator::VisitExpr(tvm::RelayExpr const&)\n        at /home/mila/Desktop/uiuc/tvm/src/relay/ir/expr_functor.cc:158\n  7: tvm::relay::ExprFunctor<tvm::RelayExpr (tvm::RelayExpr const&)>::VisitExpr(tvm::RelayExpr const&)\n        at /home/mila/Desktop/uiuc/tvm/include/tvm/relay/expr_functor.h:95\n  6: tvm::relay::ExprFunctor<tvm::RelayExpr (tvm::RelayExpr const&)>::InitVTable()::{lambda(tvm::runtime::ObjectRef const&, tvm::relay::ExprFunctor<tvm::RelayExpr (tvm::RelayExpr const&)>*)#6}::_FUN(tvm::runtime::ObjectRef const&, tvm::relay::ExprFunctor<tvm::RelayExpr (tvm::RelayExpr const&)>*)\n        at /home/mila/Desktop/uiuc/tvm/include/tvm/relay/expr_functor.h:128\n  5: tvm::relay::ExprFunctor<tvm::RelayExpr (tvm::RelayExpr const&)>::InitVTable()::{lambda(tvm::runtime::ObjectRef const&, tvm::relay::ExprFunctor<tvm::RelayExpr (tvm::RelayExpr const&)>*)#6}::operator()(tvm::runtime::ObjectRef const&, tvm::relay::ExprFunctor<tvm::RelayExpr (tvm::RelayExpr const&)>*) const\n        at /home/mila/Desktop/uiuc/tvm/include/tvm/relay/expr_functor.h:128\n  4: tvm::relay::MixedModeMutator::VisitExpr_(tvm::relay::CallNode const*)\n        at /home/mila/Desktop/uiuc/tvm/include/tvm/relay/expr_functor.h:291\n  3: tvm::RelayExpr tvm::relay::MixedModeMutator::Rewrite<tvm::relay::CallNode>(tvm::relay::CallNode const*)\n        at /home/mila/Desktop/uiuc/tvm/include/tvm/relay/expr_functor.h:313\n  2: tvm::relay::ForwardRewriter::Rewrite_(tvm::relay::CallNode const*, tvm::RelayExpr const&)\n        at /home/mila/Desktop/uiuc/tvm/src/relay/transforms/forward_rewrite.cc:155\n  1: tvm::relay::quantize::QuantizeRealize(tvm::relay::Call const&, tvm::runtime::Array<tvm::RelayExpr, void> const&, tvm::runtime::ObjectRef const&)\n        at /home/mila/Desktop/uiuc/tvm/src/relay/quantize/realize.cc:126\n  0: tvm::relay::Constant tvm::relay::MakeConstantScalar<int>(tvm::runtime::DataType, int)\n        at /home/mila/Desktop/uiuc/tvm/src/relay/quantize/../qnn/./op/../../op/../transforms/pattern_utils.h:290\n  File \"/home/mila/Desktop/uiuc/tvm/src/relay/quantize/../qnn/./op/../../op/../transforms/pattern_utils.h\", line 290\nTVMError: unknown data type int4"
     ]
    }
   ],
   "source": [
    "f_quantize(\"int4\")"
   ]
  }
 ],
 "metadata": {
  "kernelspec": {
   "display_name": "Python 3 (ipykernel)",
   "language": "python",
   "name": "python3"
  },
  "language_info": {
   "codemirror_mode": {
    "name": "ipython",
    "version": 3
   },
   "file_extension": ".py",
   "mimetype": "text/x-python",
   "name": "python",
   "nbconvert_exporter": "python",
   "pygments_lexer": "ipython3",
   "version": "3.10.12"
  }
 },
 "nbformat": 4,
 "nbformat_minor": 5
}
